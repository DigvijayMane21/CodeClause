{
 "cells": [
  {
   "cell_type": "markdown",
   "id": "c5bec848",
   "metadata": {},
   "source": [
    "## Importing important libraries"
   ]
  },
  {
   "cell_type": "code",
   "execution_count": 8,
   "id": "47023d47",
   "metadata": {},
   "outputs": [],
   "source": [
    "import os\n",
    "from numpy import vectorize\n",
    "from sklearn.feature_extraction.text import TfidfVectorizer\n",
    "from sklearn.metrics.pairwise import cosine_similarity"
   ]
  },
  {
   "cell_type": "markdown",
   "id": "dc8fbd0e",
   "metadata": {},
   "source": [
    "## Create Test files"
   ]
  },
  {
   "cell_type": "code",
   "execution_count": 13,
   "id": "7f93d479",
   "metadata": {},
   "outputs": [],
   "source": [
    "# creating test1.txt\n",
    "# Open a file named test1.txt in write mode\n",
    "with open('test1.txt', 'w') as file:\n",
    "    # Write the content to the file\n",
    "    file.write('hello world')\n"
   ]
  },
  {
   "cell_type": "code",
   "execution_count": 14,
   "id": "2b9c1b61",
   "metadata": {},
   "outputs": [],
   "source": [
    "# creating test2.txt\n",
    "with open('test2.txt', 'w') as file:\n",
    "    # Write the content to the file\n",
    "    file.write('hello world, every day')"
   ]
  },
  {
   "cell_type": "code",
   "execution_count": 15,
   "id": "7e8ca336",
   "metadata": {},
   "outputs": [],
   "source": [
    "# creating test3.txt\n",
    "with open('test3.txt', 'w') as file:\n",
    "    # Write the content to the file\n",
    "    file.write('hello issac')"
   ]
  },
  {
   "cell_type": "code",
   "execution_count": 16,
   "id": "d12f20df",
   "metadata": {},
   "outputs": [],
   "source": [
    "# creating test4.txt\n",
    "with open('test4.txt', 'w') as file:\n",
    "    # Write the content to the file\n",
    "    file.write('i am a student at Pune University')"
   ]
  },
  {
   "cell_type": "markdown",
   "id": "3088cd86",
   "metadata": {},
   "source": [
    "## Read text files and read thier contant"
   ]
  },
  {
   "cell_type": "code",
   "execution_count": 17,
   "id": "5871c1e2",
   "metadata": {},
   "outputs": [],
   "source": [
    "sample_files = [doc for doc in os.listdir() if doc.endswith('.txt')]\n",
    "sample_contents = [open(File).read() for File in sample_files]"
   ]
  },
  {
   "cell_type": "markdown",
   "id": "8f44609f",
   "metadata": {},
   "source": [
    "## convert text file to array of numbers(vectorize)"
   ]
  },
  {
   "cell_type": "code",
   "execution_count": 18,
   "id": "0b9b6743",
   "metadata": {},
   "outputs": [],
   "source": [
    "vectorize = lambda Text: TfidfVectorizer().fit_transform(Text).toarray()"
   ]
  },
  {
   "cell_type": "markdown",
   "id": "f5326799",
   "metadata": {},
   "source": [
    "## compute similarity between vectors(using cosine similarity)"
   ]
  },
  {
   "cell_type": "code",
   "execution_count": 20,
   "id": "fb92e052",
   "metadata": {},
   "outputs": [],
   "source": [
    "similarity = lambda doc1, doc2: cosine_similarity([doc1, doc2])"
   ]
  },
  {
   "cell_type": "code",
   "execution_count": 21,
   "id": "caaf4d2f",
   "metadata": {},
   "outputs": [],
   "source": [
    "vectors = vectorize(sample_contents)\n",
    "s_vectors = list(zip(sample_files, vectors))"
   ]
  },
  {
   "cell_type": "markdown",
   "id": "5679b53d",
   "metadata": {},
   "source": [
    "## Create check plagiarism function"
   ]
  },
  {
   "cell_type": "code",
   "execution_count": 22,
   "id": "08a58a38",
   "metadata": {},
   "outputs": [],
   "source": [
    "def check_plagiarism():\n",
    "    results = set()\n",
    "    global s_vectors\n",
    "    for sample_a, text_vector_a in s_vectors:\n",
    "        new_vectors = s_vectors.copy()\n",
    "        current_index = new_vectors.index((sample_a, text_vector_a))\n",
    "        del new_vectors[current_index] #remove compared sample,vector\n",
    "        for sample_b, text_vector_b in new_vectors:      #compare rest sample,vector\n",
    "            sim_score = similarity(text_vector_a, text_vector_b)[0][1]\n",
    "            sample_pair = sorted((sample_a, sample_b))\n",
    "            score = sample_pair[0], sample_pair[1], sim_score\n",
    "            results.add(score)\n",
    "    return results"
   ]
  },
  {
   "cell_type": "markdown",
   "id": "d577573d",
   "metadata": {},
   "source": [
    "### print percentage of plagiarism between each pair of text files"
   ]
  },
  {
   "cell_type": "code",
   "execution_count": 24,
   "id": "7697a145",
   "metadata": {},
   "outputs": [
    {
     "name": "stdout",
     "output_type": "stream",
     "text": [
      "['test1.txt', 'test2.txt', 'test3.txt', 'test4.txt']\n",
      "*********************************************************************************\n",
      "['hello world', 'hello world, every day', 'hello issac', 'i am a student at Pune University']\n",
      "*********************************************************************************\n"
     ]
    }
   ],
   "source": [
    "for sample in sample_files,sample_contents:\n",
    "      print(sample)\n",
    "      print(\"*********************************************************************************\")"
   ]
  },
  {
   "cell_type": "code",
   "execution_count": 25,
   "id": "97a7276f",
   "metadata": {},
   "outputs": [
    {
     "name": "stdout",
     "output_type": "stream",
     "text": [
      "('test3.txt', 'test4.txt', 0.0)\n",
      "('test2.txt', 'test3.txt', 0.19732033190759643)\n",
      "('test1.txt', 'test4.txt', 0.0)\n",
      "('test1.txt', 'test2.txt', 0.5828522431461892)\n",
      "('test1.txt', 'test3.txt', 0.338542631049127)\n",
      "('test2.txt', 'test4.txt', 0.0)\n"
     ]
    }
   ],
   "source": [
    "for data in check_plagiarism():\n",
    "    print(data)"
   ]
  },
  {
   "cell_type": "code",
   "execution_count": null,
   "id": "fb0a8807",
   "metadata": {},
   "outputs": [],
   "source": []
  }
 ],
 "metadata": {
  "kernelspec": {
   "display_name": "Python 3",
   "language": "python",
   "name": "python3"
  },
  "language_info": {
   "codemirror_mode": {
    "name": "ipython",
    "version": 3
   },
   "file_extension": ".py",
   "mimetype": "text/x-python",
   "name": "python",
   "nbconvert_exporter": "python",
   "pygments_lexer": "ipython3",
   "version": "3.8.8"
  }
 },
 "nbformat": 4,
 "nbformat_minor": 5
}
